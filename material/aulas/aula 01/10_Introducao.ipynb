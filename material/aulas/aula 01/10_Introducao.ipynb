{
 "cells": [
  {
   "cell_type": "markdown",
   "source": [
    "# Aula 01\n",
    "\n",
    "<embed> \n",
    "\n",
    "<object data=\"http://www.africau.edu/images/default/sample.pdf\" type=\"application/pdf\" width=\"500px\" height=\"375px\">\n",
    "    <embed src=\"http://www.africau.edu/images/default/sample.pdf\">\n",
    "        <p>This browser does not support PDFs. Please download the PDF to view it: <a href=\"http://www.africau.edu/images/default/sample.pdf\">Download PDF</a>.</p>\n",
    "    </embed>\n",
    "</object>"
   ],
   "metadata": {}
  },
  {
   "cell_type": "markdown",
   "source": [],
   "metadata": {}
  }
 ],
 "metadata": {
  "kernelspec": {
   "name": "python3",
   "display_name": "Python 3.7.10 64-bit ('py37': conda)"
  },
  "language_info": {
   "codemirror_mode": {
    "name": "ipython",
    "version": 3
   },
   "file_extension": ".py",
   "mimetype": "text/x-python",
   "name": "python",
   "nbconvert_exporter": "python",
   "pygments_lexer": "ipython3",
   "version": "3.7.10"
  },
  "toc": {
   "base_numbering": 1,
   "nav_menu": {},
   "number_sections": true,
   "sideBar": true,
   "skip_h1_title": false,
   "title_cell": "Table of Contents",
   "title_sidebar": "Contents",
   "toc_cell": false,
   "toc_position": {},
   "toc_section_display": true,
   "toc_window_display": false
  },
  "interpreter": {
   "hash": "1f7f79b0e44268b07c8b8027d474a1a36fc5fb5b50fbeff0e45e2fa35c8f7b9c"
  }
 },
 "nbformat": 4,
 "nbformat_minor": 5
}