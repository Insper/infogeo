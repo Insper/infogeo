{
 "cells": [
  {
   "cell_type": "markdown",
   "source": [
    "# Aula 01\n",
    "\n",
    "[Download dos slides](https://rawcdn.githack.com/Insper/infogeo/0a4f3ef54082b31cfc6e66236e8348a473450602/material/aulas/aula%2001/aula01.pdf)\n"
   ],
   "metadata": {}
  },
  {
   "cell_type": "markdown",
   "source": [],
   "metadata": {}
  }
 ],
 "metadata": {
  "kernelspec": {
   "name": "python3",
   "display_name": "Python 3.7.10 64-bit ('py37': conda)"
  },
  "language_info": {
   "codemirror_mode": {
    "name": "ipython",
    "version": 3
   },
   "file_extension": ".py",
   "mimetype": "text/x-python",
   "name": "python",
   "nbconvert_exporter": "python",
   "pygments_lexer": "ipython3",
   "version": "3.7.10"
  },
  "toc": {
   "base_numbering": 1,
   "nav_menu": {},
   "number_sections": true,
   "sideBar": true,
   "skip_h1_title": false,
   "title_cell": "Table of Contents",
   "title_sidebar": "Contents",
   "toc_cell": false,
   "toc_position": {},
   "toc_section_display": true,
   "toc_window_display": false
  },
  "interpreter": {
   "hash": "1f7f79b0e44268b07c8b8027d474a1a36fc5fb5b50fbeff0e45e2fa35c8f7b9c"
  }
 },
 "nbformat": 4,
 "nbformat_minor": 5
}